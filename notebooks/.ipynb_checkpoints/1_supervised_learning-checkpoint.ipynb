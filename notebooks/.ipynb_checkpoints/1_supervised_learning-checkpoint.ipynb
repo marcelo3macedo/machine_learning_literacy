{
 "cells": [
  {
   "cell_type": "code",
   "execution_count": null,
   "id": "2ebe651e-2e4f-427d-8e58-53129095ee73",
   "metadata": {},
   "outputs": [],
   "source": []
  }
 ],
 "metadata": {
  "kernelspec": {
   "display_name": "Python 3 (ipykernel)",
   "language": "python",
   "name": "python3"
  },
  "language_info": {
   "codemirror_mode": {
    "name": "ipython",
    "version": 3
   },
   "file_extension": ".py",
   "mimetype": "text/x-python",
   "name": "python",
   "nbconvert_exporter": "python",
   "pygments_lexer": "ipython3",
   "version": "3.11.3"
  }
 },
 "nbformat": 4,
 "nbformat_minor": 5
}
