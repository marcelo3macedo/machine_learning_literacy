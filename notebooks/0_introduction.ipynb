{
 "cells": [
  {
   "cell_type": "markdown",
   "id": "8fe72b60-dace-4087-b916-352440ae194c",
   "metadata": {},
   "source": [
    "# Definition"
   ]
  },
  {
   "cell_type": "markdown",
   "id": "a60f1c86-fee3-4cd9-b3de-9af7640236a6",
   "metadata": {},
   "source": [
    "- subset of Artificial Intelligence\n",
    "- enables systems to learn and improve from experience without being explicitly\n",
    "programmed.\n",
    "- it involves feeding a computer data and allowing it to learn and improve on its\n",
    "own\n",
    "- making predictions or decisions based on that data."
   ]
  },
  {
   "cell_type": "markdown",
   "id": "5d3c10dd-1e08-4edd-b907-44efafae0ead",
   "metadata": {},
   "source": [
    "# Usage of Machine Learning"
   ]
  },
  {
   "cell_type": "markdown",
   "id": "dfc7d401-6874-49c5-a081-169ea19843bb",
   "metadata": {},
   "source": [
    "- Recommender systems (e.g. Netflix, Amazon)\n",
    "- Image recognition (e.g. self-driving cars, medical image analysis)\n",
    "- Natural language processing (e.g. chatbots, speech recognition)\n",
    "- Fraud detection (e.g. credit card fraud detection)\n",
    "- Predictive maintenance (e.g. monitoring machines in factories)"
   ]
  },
  {
   "cell_type": "markdown",
   "id": "0df1109e-7586-47a3-8dca-d1c057db77f8",
   "metadata": {},
   "source": [
    "# Popularity of Machine Learning"
   ]
  },
  {
   "cell_type": "markdown",
   "id": "61bc0d40-81a5-4608-84b0-6e998fe7cce5",
   "metadata": {},
   "source": [
    "- increasingly popular in recent years\n",
    "- due to its ability to improve the accuracy and efficiency of automated systems\n",
    "- availability of open source machine learning libraries has made it more\n",
    "accessible for developers"
   ]
  },
  {
   "cell_type": "markdown",
   "id": "a38b7c59-f3a4-4e70-becc-19b984a04ca0",
   "metadata": {},
   "source": [
    "# Differences between Machine Learning and Traditional Programming"
   ]
  },
  {
   "cell_type": "markdown",
   "id": "57ecfd2d-7db0-41b0-803a-bfdca99f2a4f",
   "metadata": {},
   "source": [
    "Traditional programming:\n",
    "- involves explicitly defining a set of rules and instructions for a computer to follow\n",
    "in order to complete a task.\n",
    "- good as the rules and instructions provided by the programmer.\n",
    "- deterministic, meaning that given the same input, they will always produce the\n",
    "same output.\n",
    "- used for tasks that can be explicitly defined and solved\n",
    "\n",
    "Machine learning:\n",
    "- involves feeding a computer data and allowing it to learn and improve on its own.\n",
    "- can adapt to new data and improve over time.\n",
    "- probabilistic, meaning that they can produce different outputs for the same input\n",
    "based on the current state of the model and the randomness introduced during\n",
    "training.\n",
    "- used for tasks that involve patterns and relationships in data that are difficult to\n",
    "explicitly define."
   ]
  },
  {
   "cell_type": "markdown",
   "id": "fdf76fef-5efe-49b3-a45a-072a00e10d35",
   "metadata": {},
   "source": [
    "# Learning Types"
   ]
  },
  {
   "cell_type": "markdown",
   "id": "a24aa139-ece4-45f2-a4c2-cfd70dba5ab7",
   "metadata": {},
   "source": [
    "Supervised learning\n",
    "- involves training a model on a labeled dataset where the correct outputs are\n",
    "known.\n",
    "- learns to make predictions based on patterns in the data and is then used to\n",
    "make predictions on new, unlabeled data.\n",
    "\n",
    "Unsupervised learning\n",
    "- involves training a model on an unlabeled dataset where the correct outputs are\n",
    "unknown.\n",
    "- learns to identify patterns and relationships in the data and is then used to find\n",
    "similar patterns in new, unlabeled data.\n",
    "\n",
    "Reinforcement learning\n",
    "- involves training a model to make decisions based on feedback from the\n",
    "environment.\n",
    "- learns to take actions that maximize a reward signal, and is then used to make\n",
    "decisions in new, unseen environments."
   ]
  },
  {
   "cell_type": "markdown",
   "id": "4efc668d-b3f2-4b6e-9f29-6b0d498955d6",
   "metadata": {},
   "source": [
    "# Supervised learning"
   ]
  },
  {
   "cell_type": "markdown",
   "id": "cd2e6892-9cc4-4d30-b8f0-680e9ab58669",
   "metadata": {},
   "source": [
    "Classification:\n",
    "- used when the output variable is categorical.\n",
    "- learns to map input variables to a discrete output variable.\n",
    "  \n",
    "Regression:\n",
    "- used when the output variable is continuous.\n",
    "- learns to map input variables to a continuous output variable."
   ]
  }
 ],
 "metadata": {
  "kernelspec": {
   "display_name": "Python 3 (ipykernel)",
   "language": "python",
   "name": "python3"
  },
  "language_info": {
   "codemirror_mode": {
    "name": "ipython",
    "version": 3
   },
   "file_extension": ".py",
   "mimetype": "text/x-python",
   "name": "python",
   "nbconvert_exporter": "python",
   "pygments_lexer": "ipython3",
   "version": "3.11.3"
  }
 },
 "nbformat": 4,
 "nbformat_minor": 5
}
